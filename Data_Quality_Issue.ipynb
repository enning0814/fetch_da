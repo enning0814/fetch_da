{
 "cells": [
  {
   "cell_type": "markdown",
   "id": "8aadc477",
   "metadata": {},
   "source": [
    "# 0. Load Packages and Data File"
   ]
  },
  {
   "cell_type": "code",
   "execution_count": null,
   "id": "e5a79317",
   "metadata": {},
   "outputs": [],
   "source": [
    "import pandas as pd\n",
    "import numpy as np\n",
    "import datetime"
   ]
  },
  {
   "cell_type": "code",
   "execution_count": 71,
   "id": "4f3cfe10",
   "metadata": {},
   "outputs": [],
   "source": [
    "users = pd.read_csv('users.csv')\n",
    "brands = pd.read_csv('brands.csv')\n",
    "receipts = pd.read_csv('receipts.csv')\n",
    "receipts_item = pd.read_csv('receipts_item.csv')"
   ]
  },
  {
   "cell_type": "markdown",
   "id": "4799fe22",
   "metadata": {},
   "source": [
    "# 1. Data Quality Issue - Incomplete Information"
   ]
  },
  {
   "cell_type": "markdown",
   "id": "65172e38",
   "metadata": {},
   "source": [
    "## 1.1 General Missing Data Info"
   ]
  },
  {
   "cell_type": "code",
   "execution_count": 3,
   "id": "4e9a719e",
   "metadata": {},
   "outputs": [
    {
     "name": "stdout",
     "output_type": "stream",
     "text": [
      "<class 'pandas.core.frame.DataFrame'>\n",
      "RangeIndex: 212 entries, 0 to 211\n",
      "Data columns (total 7 columns):\n",
      " #   Column        Non-Null Count  Dtype \n",
      "---  ------        --------------  ----- \n",
      " 0   id            212 non-null    object\n",
      " 1   active        212 non-null    bool  \n",
      " 2   createdDate   212 non-null    object\n",
      " 3   lastLogin     172 non-null    object\n",
      " 4   role          212 non-null    object\n",
      " 5   signUpSource  207 non-null    object\n",
      " 6   state         206 non-null    object\n",
      "dtypes: bool(1), object(6)\n",
      "memory usage: 10.3+ KB\n"
     ]
    }
   ],
   "source": [
    "users.info()"
   ]
  },
  {
   "cell_type": "code",
   "execution_count": 4,
   "id": "7536c08f",
   "metadata": {},
   "outputs": [
    {
     "name": "stdout",
     "output_type": "stream",
     "text": [
      "<class 'pandas.core.frame.DataFrame'>\n",
      "RangeIndex: 1167 entries, 0 to 1166\n",
      "Data columns (total 8 columns):\n",
      " #   Column        Non-Null Count  Dtype \n",
      "---  ------        --------------  ----- \n",
      " 0   id            1167 non-null   object\n",
      " 1   barcode       1167 non-null   int64 \n",
      " 2   brandCode     898 non-null    object\n",
      " 3   category      1012 non-null   object\n",
      " 4   categoryCode  517 non-null    object\n",
      " 5   cpg           1167 non-null   object\n",
      " 6   name          1167 non-null   object\n",
      " 7   topBrand      555 non-null    object\n",
      "dtypes: int64(1), object(7)\n",
      "memory usage: 73.1+ KB\n"
     ]
    }
   ],
   "source": [
    "brands.info()"
   ]
  },
  {
   "cell_type": "code",
   "execution_count": 5,
   "id": "84b34597",
   "metadata": {},
   "outputs": [
    {
     "name": "stdout",
     "output_type": "stream",
     "text": [
      "<class 'pandas.core.frame.DataFrame'>\n",
      "RangeIndex: 1119 entries, 0 to 1118\n",
      "Data columns (total 14 columns):\n",
      " #   Column                   Non-Null Count  Dtype  \n",
      "---  ------                   --------------  -----  \n",
      " 0   id                       1119 non-null   object \n",
      " 1   bonusPointsEarned        544 non-null    float64\n",
      " 2   bonusPointsEarnedReason  544 non-null    object \n",
      " 3   createDate               1119 non-null   object \n",
      " 4   dateScanned              1119 non-null   object \n",
      " 5   finishedDate             568 non-null    object \n",
      " 6   modifyDate               1119 non-null   object \n",
      " 7   pointsAwardedDate        537 non-null    object \n",
      " 8   pointsEarned             609 non-null    float64\n",
      " 9   purchaseDate             671 non-null    object \n",
      " 10  purchasedItemCount       635 non-null    float64\n",
      " 11  rewardsReceiptStatus     1119 non-null   object \n",
      " 12  totalSpent               684 non-null    float64\n",
      " 13  userId                   1119 non-null   object \n",
      "dtypes: float64(4), object(10)\n",
      "memory usage: 122.5+ KB\n"
     ]
    }
   ],
   "source": [
    "receipts.info()"
   ]
  },
  {
   "cell_type": "code",
   "execution_count": 6,
   "id": "912f4c47",
   "metadata": {},
   "outputs": [
    {
     "name": "stdout",
     "output_type": "stream",
     "text": [
      "<class 'pandas.core.frame.DataFrame'>\n",
      "RangeIndex: 6941 entries, 0 to 6940\n",
      "Data columns (total 36 columns):\n",
      " #   Column                              Non-Null Count  Dtype  \n",
      "---  ------                              --------------  -----  \n",
      " 0   id                                  6941 non-null   int64  \n",
      " 1   barcode                             3090 non-null   object \n",
      " 2   description                         6560 non-null   object \n",
      " 3   finalPrice                          6767 non-null   float64\n",
      " 4   itemPrice                           6767 non-null   float64\n",
      " 5   needsFetchReview                    813 non-null    object \n",
      " 6   partnerItemId                       6941 non-null   int64  \n",
      " 7   preventTargetGapPoints              358 non-null    object \n",
      " 8   quantityPurchased                   6767 non-null   float64\n",
      " 9   userFlaggedBarcode                  337 non-null    float64\n",
      " 10  userFlaggedNewItem                  323 non-null    object \n",
      " 11  userFlaggedPrice                    299 non-null    float64\n",
      " 12  userFlaggedQuantity                 299 non-null    float64\n",
      " 13  receipt_id                          6941 non-null   object \n",
      " 14  needsFetchReviewReason              219 non-null    object \n",
      " 15  pointsNotAwardedReason              340 non-null    object \n",
      " 16  pointsPayerId                       1267 non-null   object \n",
      " 17  rewardsGroup                        1731 non-null   object \n",
      " 18  rewardsProductPartnerId             2269 non-null   object \n",
      " 19  userFlaggedDescription              154 non-null    object \n",
      " 20  originalMetaBriteBarcode            24 non-null     float64\n",
      " 21  originalMetaBriteDescription        10 non-null     object \n",
      " 22  brandCode                           2600 non-null   object \n",
      " 23  competitorRewardsGroup              275 non-null    object \n",
      " 24  discountedItemPrice                 5769 non-null   float64\n",
      " 25  originalReceiptItemText             5760 non-null   object \n",
      " 26  itemNumber                          153 non-null    float64\n",
      " 27  originalMetaBriteQuantityPurchased  15 non-null     float64\n",
      " 28  pointsEarned                        927 non-null    float64\n",
      " 29  targetPrice                         378 non-null    float64\n",
      " 30  competitiveProduct                  645 non-null    object \n",
      " 31  originalFinalPrice                  9 non-null      float64\n",
      " 32  originalMetaBriteItemPrice          9 non-null      float64\n",
      " 33  deleted                             9 non-null      object \n",
      " 34  priceAfterCoupon                    956 non-null    float64\n",
      " 35  metabriteCampaignId                 863 non-null    object \n",
      "dtypes: float64(15), int64(2), object(19)\n",
      "memory usage: 1.9+ MB\n"
     ]
    }
   ],
   "source": [
    "receipts_item.info()"
   ]
  },
  {
   "cell_type": "markdown",
   "id": "cf8e3e10",
   "metadata": {},
   "source": [
    "## 1.2 The Consequence of Missing Data\n",
    "1. We cannot fully present the fact of data. For example, we cannot get the true rank of brands by receipts scanned for most recent month. Some brand names are missing.    \n",
    "2. When I tried to analyze how many brands were scanned by receipts for each year and month, the missing data cause wrong result. "
   ]
  },
  {
   "cell_type": "code",
   "execution_count": 28,
   "id": "a526fc3d",
   "metadata": {},
   "outputs": [],
   "source": [
    "t = pd.merge(receipts, receipts_item, left_on=['id'], right_on=['receipt_id'], how='right')\n",
    "tt = pd.merge(t, brands, left_on=['brandCode'], right_on=['brandCode'], how='left')"
   ]
  },
  {
   "cell_type": "code",
   "execution_count": 32,
   "id": "1f228a54",
   "metadata": {},
   "outputs": [],
   "source": [
    "tt['month'] = pd.DatetimeIndex(tt['dateScanned']).month\n",
    "tt['year'] = pd.DatetimeIndex(tt['dateScanned']).year"
   ]
  },
  {
   "cell_type": "code",
   "execution_count": 33,
   "id": "8a98a869",
   "metadata": {},
   "outputs": [
    {
     "data": {
      "text/plain": [
       "id_x                                        0\n",
       "bonusPointsEarned                      187491\n",
       "bonusPointsEarnedReason                187491\n",
       "createDate                                  0\n",
       "dateScanned                                 0\n",
       "finishedDate                           195274\n",
       "modifyDate                                  0\n",
       "pointsAwardedDate                      163539\n",
       "pointsEarned_x                         119146\n",
       "purchaseDate                             5649\n",
       "purchasedItemCount                      12913\n",
       "rewardsReceiptStatus                        0\n",
       "totalSpent                                  0\n",
       "userId                                      0\n",
       "id_y                                        0\n",
       "barcode_x                              807047\n",
       "description                            102489\n",
       "finalPrice                              46806\n",
       "itemPrice                               46806\n",
       "needsFetchReview                      1015690\n",
       "partnerItemId                               0\n",
       "preventTargetGapPoints                1079661\n",
       "quantityPurchased                       46806\n",
       "userFlaggedBarcode                    1079682\n",
       "userFlaggedNewItem                    1083448\n",
       "userFlaggedPrice                      1089904\n",
       "userFlaggedQuantity                   1089904\n",
       "receipt_id                                  0\n",
       "needsFetchReviewReason                1111960\n",
       "pointsNotAwardedReason                1162491\n",
       "pointsPayerId                         1033454\n",
       "rewardsGroup                           980730\n",
       "rewardsProductPartnerId                929540\n",
       "userFlaggedDescription                1128909\n",
       "originalMetaBriteBarcode              1163879\n",
       "originalMetaBriteDescription          1167645\n",
       "brandCode                             1167729\n",
       "competitorRewardsGroup                1170060\n",
       "discountedItemPrice                    309372\n",
       "originalReceiptItemText                309923\n",
       "itemNumber                            1131048\n",
       "originalMetaBriteQuantityPurchased    1166300\n",
       "pointsEarned_y                        1041298\n",
       "targetPrice                           1068653\n",
       "competitiveProduct                    1114214\n",
       "originalFinalPrice                    1167914\n",
       "originalMetaBriteItemPrice            1167914\n",
       "deleted                               1167914\n",
       "priceAfterCoupon                      1024391\n",
       "metabriteCampaignId                   1169466\n",
       "id                                       1971\n",
       "barcode_y                                1971\n",
       "category                               657463\n",
       "categoryCode                           853432\n",
       "cpg                                      1971\n",
       "name                                     1971\n",
       "topBrand                               865871\n",
       "month                                       0\n",
       "year                                        0\n",
       "dtype: int64"
      ]
     },
     "execution_count": 33,
     "metadata": {},
     "output_type": "execute_result"
    }
   ],
   "source": [
    "# many receipts_item missing brandCode information \n",
    "tt.isna().sum()"
   ]
  },
  {
   "cell_type": "code",
   "execution_count": 34,
   "id": "b9a0d72d",
   "metadata": {},
   "outputs": [
    {
     "data": {
      "text/html": [
       "<div>\n",
       "<style scoped>\n",
       "    .dataframe tbody tr th:only-of-type {\n",
       "        vertical-align: middle;\n",
       "    }\n",
       "\n",
       "    .dataframe tbody tr th {\n",
       "        vertical-align: top;\n",
       "    }\n",
       "\n",
       "    .dataframe thead th {\n",
       "        text-align: right;\n",
       "    }\n",
       "</style>\n",
       "<table border=\"1\" class=\"dataframe\">\n",
       "  <thead>\n",
       "    <tr style=\"text-align: right;\">\n",
       "      <th></th>\n",
       "      <th></th>\n",
       "      <th>name</th>\n",
       "    </tr>\n",
       "    <tr>\n",
       "      <th>year</th>\n",
       "      <th>month</th>\n",
       "      <th></th>\n",
       "    </tr>\n",
       "  </thead>\n",
       "  <tbody>\n",
       "    <tr>\n",
       "      <th rowspan=\"2\" valign=\"top\">2020</th>\n",
       "      <th>10</th>\n",
       "      <td>4304</td>\n",
       "    </tr>\n",
       "    <tr>\n",
       "      <th>11</th>\n",
       "      <td>14526</td>\n",
       "    </tr>\n",
       "    <tr>\n",
       "      <th rowspan=\"3\" valign=\"top\">2021</th>\n",
       "      <th>1</th>\n",
       "      <td>1093043</td>\n",
       "    </tr>\n",
       "    <tr>\n",
       "      <th>2</th>\n",
       "      <td>49497</td>\n",
       "    </tr>\n",
       "    <tr>\n",
       "      <th>3</th>\n",
       "      <td>6994</td>\n",
       "    </tr>\n",
       "  </tbody>\n",
       "</table>\n",
       "</div>"
      ],
      "text/plain": [
       "               name\n",
       "year month         \n",
       "2020 10        4304\n",
       "     11       14526\n",
       "2021 1      1093043\n",
       "     2        49497\n",
       "     3         6994"
      ]
     },
     "execution_count": 34,
     "metadata": {},
     "output_type": "execute_result"
    }
   ],
   "source": [
    "tt.groupby(['year','month']).agg({'name':'count'})"
   ]
  },
  {
   "cell_type": "markdown",
   "id": "94465cfd",
   "metadata": {},
   "source": [
    "Now we assume that we want to analyze the top 5 brands by receipts scanned for each month.  We need to drop na of brands table before we join it with other tables. "
   ]
  },
  {
   "cell_type": "code",
   "execution_count": 42,
   "id": "125a939c",
   "metadata": {},
   "outputs": [
    {
     "data": {
      "text/plain": [
       "id                0\n",
       "barcode           0\n",
       "brandCode       269\n",
       "category        155\n",
       "categoryCode    650\n",
       "cpg               0\n",
       "name              0\n",
       "topBrand        612\n",
       "dtype: int64"
      ]
     },
     "execution_count": 42,
     "metadata": {},
     "output_type": "execute_result"
    }
   ],
   "source": [
    "brands.isna().sum()"
   ]
  },
  {
   "cell_type": "markdown",
   "id": "9ed16558",
   "metadata": {},
   "source": [
    "Since brandCode is the primary key to link receipts_item table, it shouldn't be na. Therefore, we drop rows if its brandCode is null value.  "
   ]
  },
  {
   "cell_type": "code",
   "execution_count": 43,
   "id": "f2dc9abf",
   "metadata": {},
   "outputs": [],
   "source": [
    "brands2 = brands.dropna(subset=['brandCode'])"
   ]
  },
  {
   "cell_type": "code",
   "execution_count": 44,
   "id": "4db1d86c",
   "metadata": {},
   "outputs": [],
   "source": [
    "t2 = pd.merge(receipts, receipts_item, left_on=['id'], right_on=['receipt_id'], how='right')\n",
    "tt2 = pd.merge(t, brands2, left_on=['brandCode'], right_on=['brandCode'], how='left')"
   ]
  },
  {
   "cell_type": "code",
   "execution_count": 47,
   "id": "26e8f4c6",
   "metadata": {},
   "outputs": [],
   "source": [
    "tt2['month'] = pd.DatetimeIndex(tt2['dateScanned']).month\n",
    "tt2['year'] = pd.DatetimeIndex(tt2['dateScanned']).year"
   ]
  },
  {
   "cell_type": "code",
   "execution_count": 48,
   "id": "dc911e5e",
   "metadata": {},
   "outputs": [
    {
     "data": {
      "text/plain": [
       "id_x                                     0\n",
       "bonusPointsEarned                      963\n",
       "bonusPointsEarnedReason                963\n",
       "createDate                               0\n",
       "dateScanned                              0\n",
       "finishedDate                           974\n",
       "modifyDate                               0\n",
       "pointsAwardedDate                      863\n",
       "pointsEarned_x                         690\n",
       "purchaseDate                            21\n",
       "purchasedItemCount                      49\n",
       "rewardsReceiptStatus                     0\n",
       "totalSpent                               0\n",
       "userId                                   0\n",
       "id_y                                     0\n",
       "barcode_x                             3851\n",
       "description                            381\n",
       "finalPrice                             174\n",
       "itemPrice                              174\n",
       "needsFetchReview                      6134\n",
       "partnerItemId                            0\n",
       "preventTargetGapPoints                6589\n",
       "quantityPurchased                      174\n",
       "userFlaggedBarcode                    6610\n",
       "userFlaggedNewItem                    6624\n",
       "userFlaggedPrice                      6648\n",
       "userFlaggedQuantity                   6648\n",
       "receipt_id                               0\n",
       "needsFetchReviewReason                6728\n",
       "pointsNotAwardedReason                6607\n",
       "pointsPayerId                         5674\n",
       "rewardsGroup                          5210\n",
       "rewardsProductPartnerId               4672\n",
       "userFlaggedDescription                6793\n",
       "originalMetaBriteBarcode              6923\n",
       "originalMetaBriteDescription          6937\n",
       "brandCode                             4341\n",
       "competitorRewardsGroup                6672\n",
       "discountedItemPrice                   1172\n",
       "originalReceiptItemText               1187\n",
       "itemNumber                            6788\n",
       "originalMetaBriteQuantityPurchased    6932\n",
       "pointsEarned_y                        6014\n",
       "targetPrice                           6569\n",
       "competitiveProduct                    6302\n",
       "originalFinalPrice                    6938\n",
       "originalMetaBriteItemPrice            6938\n",
       "deleted                               6938\n",
       "priceAfterCoupon                      5991\n",
       "metabriteCampaignId                   6078\n",
       "id                                    6312\n",
       "barcode_y                             6312\n",
       "category                              6313\n",
       "categoryCode                          6937\n",
       "cpg                                   6312\n",
       "name                                  6312\n",
       "topBrand                              6353\n",
       "month                                    0\n",
       "year                                     0\n",
       "dtype: int64"
      ]
     },
     "execution_count": 48,
     "metadata": {},
     "output_type": "execute_result"
    }
   ],
   "source": [
    "tt2.isna().sum()"
   ]
  },
  {
   "cell_type": "code",
   "execution_count": 49,
   "id": "90d82919",
   "metadata": {},
   "outputs": [
    {
     "data": {
      "text/plain": [
       "id_x                                     0\n",
       "bonusPointsEarned                      963\n",
       "bonusPointsEarnedReason                963\n",
       "createDate                               0\n",
       "dateScanned                              0\n",
       "finishedDate                           974\n",
       "modifyDate                               0\n",
       "pointsAwardedDate                      863\n",
       "pointsEarned_x                         690\n",
       "purchaseDate                            21\n",
       "purchasedItemCount                      49\n",
       "rewardsReceiptStatus                     0\n",
       "totalSpent                               0\n",
       "userId                                   0\n",
       "id_y                                     0\n",
       "barcode_x                             3851\n",
       "description                            381\n",
       "finalPrice                             174\n",
       "itemPrice                              174\n",
       "needsFetchReview                      6134\n",
       "partnerItemId                            0\n",
       "preventTargetGapPoints                6589\n",
       "quantityPurchased                      174\n",
       "userFlaggedBarcode                    6610\n",
       "userFlaggedNewItem                    6624\n",
       "userFlaggedPrice                      6648\n",
       "userFlaggedQuantity                   6648\n",
       "receipt_id                               0\n",
       "needsFetchReviewReason                6728\n",
       "pointsNotAwardedReason                6607\n",
       "pointsPayerId                         5674\n",
       "rewardsGroup                          5210\n",
       "rewardsProductPartnerId               4672\n",
       "userFlaggedDescription                6793\n",
       "originalMetaBriteBarcode              6923\n",
       "originalMetaBriteDescription          6937\n",
       "brandCode                             4341\n",
       "competitorRewardsGroup                6672\n",
       "discountedItemPrice                   1172\n",
       "originalReceiptItemText               1187\n",
       "itemNumber                            6788\n",
       "originalMetaBriteQuantityPurchased    6932\n",
       "pointsEarned_y                        6014\n",
       "targetPrice                           6569\n",
       "competitiveProduct                    6302\n",
       "originalFinalPrice                    6938\n",
       "originalMetaBriteItemPrice            6938\n",
       "deleted                               6938\n",
       "priceAfterCoupon                      5991\n",
       "metabriteCampaignId                   6078\n",
       "id                                    6312\n",
       "barcode_y                             6312\n",
       "category                              6313\n",
       "categoryCode                          6937\n",
       "cpg                                   6312\n",
       "name                                  6312\n",
       "topBrand                              6353\n",
       "month                                    0\n",
       "year                                     0\n",
       "dtype: int64"
      ]
     },
     "execution_count": 49,
     "metadata": {},
     "output_type": "execute_result"
    }
   ],
   "source": [
    "tt2.isna().sum()"
   ]
  },
  {
   "cell_type": "code",
   "execution_count": 50,
   "id": "f03d46c2",
   "metadata": {},
   "outputs": [
    {
     "data": {
      "text/html": [
       "<div>\n",
       "<style scoped>\n",
       "    .dataframe tbody tr th:only-of-type {\n",
       "        vertical-align: middle;\n",
       "    }\n",
       "\n",
       "    .dataframe tbody tr th {\n",
       "        vertical-align: top;\n",
       "    }\n",
       "\n",
       "    .dataframe thead th {\n",
       "        text-align: right;\n",
       "    }\n",
       "</style>\n",
       "<table border=\"1\" class=\"dataframe\">\n",
       "  <thead>\n",
       "    <tr style=\"text-align: right;\">\n",
       "      <th></th>\n",
       "      <th></th>\n",
       "      <th>name</th>\n",
       "    </tr>\n",
       "    <tr>\n",
       "      <th>year</th>\n",
       "      <th>month</th>\n",
       "      <th></th>\n",
       "    </tr>\n",
       "  </thead>\n",
       "  <tbody>\n",
       "    <tr>\n",
       "      <th rowspan=\"2\" valign=\"top\">2020</th>\n",
       "      <th>10</th>\n",
       "      <td>0</td>\n",
       "    </tr>\n",
       "    <tr>\n",
       "      <th>11</th>\n",
       "      <td>0</td>\n",
       "    </tr>\n",
       "    <tr>\n",
       "      <th rowspan=\"3\" valign=\"top\">2021</th>\n",
       "      <th>1</th>\n",
       "      <td>634</td>\n",
       "    </tr>\n",
       "    <tr>\n",
       "      <th>2</th>\n",
       "      <td>1</td>\n",
       "    </tr>\n",
       "    <tr>\n",
       "      <th>3</th>\n",
       "      <td>0</td>\n",
       "    </tr>\n",
       "  </tbody>\n",
       "</table>\n",
       "</div>"
      ],
      "text/plain": [
       "            name\n",
       "year month      \n",
       "2020 10        0\n",
       "     11        0\n",
       "2021 1       634\n",
       "     2         1\n",
       "     3         0"
      ]
     },
     "execution_count": 50,
     "metadata": {},
     "output_type": "execute_result"
    }
   ],
   "source": [
    "tt2.groupby(['year','month']).agg({'name':'count'})"
   ]
  },
  {
   "cell_type": "markdown",
   "id": "03a1d6ec",
   "metadata": {},
   "source": [
    "We can see the result is very different from before dropping null value in brands table."
   ]
  },
  {
   "cell_type": "markdown",
   "id": "f3fa0df7",
   "metadata": {},
   "source": [
    "# 2. Data Quality Issue - Duplicate Data"
   ]
  },
  {
   "cell_type": "markdown",
   "id": "02765678",
   "metadata": {},
   "source": [
    "1. There are some brandCode are duplicated such as HUGGIES and GOODNITES.   \n",
    "2. Their topBrand status are different even if they have the same brandCode.    \n",
    "3. Solution: Delete duplicate entry based on right informtaion. "
   ]
  },
  {
   "cell_type": "code",
   "execution_count": 85,
   "id": "a1d300c3",
   "metadata": {},
   "outputs": [
    {
     "data": {
      "text/html": [
       "<div>\n",
       "<style scoped>\n",
       "    .dataframe tbody tr th:only-of-type {\n",
       "        vertical-align: middle;\n",
       "    }\n",
       "\n",
       "    .dataframe tbody tr th {\n",
       "        vertical-align: top;\n",
       "    }\n",
       "\n",
       "    .dataframe thead th {\n",
       "        text-align: right;\n",
       "    }\n",
       "</style>\n",
       "<table border=\"1\" class=\"dataframe\">\n",
       "  <thead>\n",
       "    <tr style=\"text-align: right;\">\n",
       "      <th></th>\n",
       "      <th>id</th>\n",
       "      <th>barcode</th>\n",
       "      <th>brandCode</th>\n",
       "      <th>category</th>\n",
       "      <th>categoryCode</th>\n",
       "      <th>cpg</th>\n",
       "      <th>name</th>\n",
       "      <th>topBrand</th>\n",
       "    </tr>\n",
       "  </thead>\n",
       "  <tbody>\n",
       "    <tr>\n",
       "      <th>628</th>\n",
       "      <td>5bd2011f90fa074576779a17</td>\n",
       "      <td>511111704652</td>\n",
       "      <td>HUGGIES</td>\n",
       "      <td>Baby</td>\n",
       "      <td>NaN</td>\n",
       "      <td>DBRef('Cogs', ObjectId('550b2565e4b001d5e9e414...</td>\n",
       "      <td>Huggies</td>\n",
       "      <td>False</td>\n",
       "    </tr>\n",
       "    <tr>\n",
       "      <th>1036</th>\n",
       "      <td>5db32879ee7f2d6de4248976</td>\n",
       "      <td>511111112938</td>\n",
       "      <td>GOODNITES</td>\n",
       "      <td>Baby</td>\n",
       "      <td>BABY</td>\n",
       "      <td>DBRef('Cogs', ObjectId('55b62995e4b0d8e685c142...</td>\n",
       "      <td>GoodNites</td>\n",
       "      <td>True</td>\n",
       "    </tr>\n",
       "    <tr>\n",
       "      <th>1074</th>\n",
       "      <td>5c7d9cb395144c337a3cbfbb</td>\n",
       "      <td>511111707202</td>\n",
       "      <td>HUGGIES</td>\n",
       "      <td>Baby</td>\n",
       "      <td>BABY</td>\n",
       "      <td>DBRef('Cogs', ObjectId('5459429be4b0bfcb1e8640...</td>\n",
       "      <td>Huggies</td>\n",
       "      <td>True</td>\n",
       "    </tr>\n",
       "    <tr>\n",
       "      <th>1079</th>\n",
       "      <td>5bd200fc965c7d66d92731eb</td>\n",
       "      <td>511111204640</td>\n",
       "      <td>GOODNITES</td>\n",
       "      <td>Baby</td>\n",
       "      <td>NaN</td>\n",
       "      <td>DBRef('Cogs', ObjectId('550b2565e4b001d5e9e414...</td>\n",
       "      <td>Goodnites</td>\n",
       "      <td>False</td>\n",
       "    </tr>\n",
       "  </tbody>\n",
       "</table>\n",
       "</div>"
      ],
      "text/plain": [
       "                            id       barcode  brandCode category categoryCode  \\\n",
       "628   5bd2011f90fa074576779a17  511111704652    HUGGIES     Baby          NaN   \n",
       "1036  5db32879ee7f2d6de4248976  511111112938  GOODNITES     Baby         BABY   \n",
       "1074  5c7d9cb395144c337a3cbfbb  511111707202    HUGGIES     Baby         BABY   \n",
       "1079  5bd200fc965c7d66d92731eb  511111204640  GOODNITES     Baby          NaN   \n",
       "\n",
       "                                                    cpg       name topBrand  \n",
       "628   DBRef('Cogs', ObjectId('550b2565e4b001d5e9e414...    Huggies    False  \n",
       "1036  DBRef('Cogs', ObjectId('55b62995e4b0d8e685c142...  GoodNites     True  \n",
       "1074  DBRef('Cogs', ObjectId('5459429be4b0bfcb1e8640...    Huggies     True  \n",
       "1079  DBRef('Cogs', ObjectId('550b2565e4b001d5e9e414...  Goodnites    False  "
      ]
     },
     "execution_count": 85,
     "metadata": {},
     "output_type": "execute_result"
    }
   ],
   "source": [
    "brands[brands.groupby(['brandCode'])['id'].transform('count') > 1]"
   ]
  },
  {
   "cell_type": "markdown",
   "id": "088f1808",
   "metadata": {},
   "source": [
    "# 3. Data Quality Issue - Inaccurate Data"
   ]
  },
  {
   "cell_type": "markdown",
   "id": "17e9fef3",
   "metadata": {},
   "source": [
    "1. Some brandCodes have different names and different topBrand. For example, such as GOODNITES has two names under Goodnites and GoofNites, and one is topBrand and another one is not topBrand. "
   ]
  },
  {
   "cell_type": "code",
   "execution_count": 67,
   "id": "a3b2c784",
   "metadata": {},
   "outputs": [
    {
     "data": {
      "text/html": [
       "<div>\n",
       "<style scoped>\n",
       "    .dataframe tbody tr th:only-of-type {\n",
       "        vertical-align: middle;\n",
       "    }\n",
       "\n",
       "    .dataframe tbody tr th {\n",
       "        vertical-align: top;\n",
       "    }\n",
       "\n",
       "    .dataframe thead th {\n",
       "        text-align: right;\n",
       "    }\n",
       "</style>\n",
       "<table border=\"1\" class=\"dataframe\">\n",
       "  <thead>\n",
       "    <tr style=\"text-align: right;\">\n",
       "      <th></th>\n",
       "      <th>id</th>\n",
       "      <th>barcode</th>\n",
       "      <th>brandCode</th>\n",
       "      <th>category</th>\n",
       "      <th>categoryCode</th>\n",
       "      <th>cpg</th>\n",
       "      <th>name</th>\n",
       "      <th>topBrand</th>\n",
       "    </tr>\n",
       "  </thead>\n",
       "  <tbody>\n",
       "    <tr>\n",
       "      <th>1036</th>\n",
       "      <td>5db32879ee7f2d6de4248976</td>\n",
       "      <td>5.111111e+11</td>\n",
       "      <td>GOODNITES</td>\n",
       "      <td>Baby</td>\n",
       "      <td>BABY</td>\n",
       "      <td>DBRef('Cogs', ObjectId('55b62995e4b0d8e685c142...</td>\n",
       "      <td>GoodNites</td>\n",
       "      <td>True</td>\n",
       "    </tr>\n",
       "    <tr>\n",
       "      <th>1079</th>\n",
       "      <td>5bd200fc965c7d66d92731eb</td>\n",
       "      <td>5.111112e+11</td>\n",
       "      <td>GOODNITES</td>\n",
       "      <td>Baby</td>\n",
       "      <td>NaN</td>\n",
       "      <td>DBRef('Cogs', ObjectId('550b2565e4b001d5e9e414...</td>\n",
       "      <td>Goodnites</td>\n",
       "      <td>False</td>\n",
       "    </tr>\n",
       "  </tbody>\n",
       "</table>\n",
       "</div>"
      ],
      "text/plain": [
       "                            id       barcode  brandCode category categoryCode  \\\n",
       "1036  5db32879ee7f2d6de4248976  5.111111e+11  GOODNITES     Baby         BABY   \n",
       "1079  5bd200fc965c7d66d92731eb  5.111112e+11  GOODNITES     Baby          NaN   \n",
       "\n",
       "                                                    cpg       name topBrand  \n",
       "1036  DBRef('Cogs', ObjectId('55b62995e4b0d8e685c142...  GoodNites     True  \n",
       "1079  DBRef('Cogs', ObjectId('550b2565e4b001d5e9e414...  Goodnites    False  "
      ]
     },
     "execution_count": 67,
     "metadata": {},
     "output_type": "execute_result"
    }
   ],
   "source": [
    "brands[brands[\"brandCode\"]==\"GOODNITES\"]"
   ]
  },
  {
   "cell_type": "code",
   "execution_count": 96,
   "id": "827cee2b",
   "metadata": {},
   "outputs": [
    {
     "data": {
      "text/html": [
       "<div>\n",
       "<style scoped>\n",
       "    .dataframe tbody tr th:only-of-type {\n",
       "        vertical-align: middle;\n",
       "    }\n",
       "\n",
       "    .dataframe tbody tr th {\n",
       "        vertical-align: top;\n",
       "    }\n",
       "\n",
       "    .dataframe thead th {\n",
       "        text-align: right;\n",
       "    }\n",
       "</style>\n",
       "<table border=\"1\" class=\"dataframe\">\n",
       "  <thead>\n",
       "    <tr style=\"text-align: right;\">\n",
       "      <th></th>\n",
       "      <th>id</th>\n",
       "      <th>barcode</th>\n",
       "      <th>brandCode</th>\n",
       "      <th>category</th>\n",
       "      <th>categoryCode</th>\n",
       "      <th>cpg</th>\n",
       "      <th>name</th>\n",
       "      <th>topBrand</th>\n",
       "    </tr>\n",
       "  </thead>\n",
       "  <tbody>\n",
       "    <tr>\n",
       "      <th>628</th>\n",
       "      <td>5bd2011f90fa074576779a17</td>\n",
       "      <td>511111704652</td>\n",
       "      <td>HUGGIES</td>\n",
       "      <td>Baby</td>\n",
       "      <td>NaN</td>\n",
       "      <td>DBRef('Cogs', ObjectId('550b2565e4b001d5e9e414...</td>\n",
       "      <td>Huggies</td>\n",
       "      <td>False</td>\n",
       "    </tr>\n",
       "    <tr>\n",
       "      <th>1074</th>\n",
       "      <td>5c7d9cb395144c337a3cbfbb</td>\n",
       "      <td>511111707202</td>\n",
       "      <td>HUGGIES</td>\n",
       "      <td>Baby</td>\n",
       "      <td>BABY</td>\n",
       "      <td>DBRef('Cogs', ObjectId('5459429be4b0bfcb1e8640...</td>\n",
       "      <td>Huggies</td>\n",
       "      <td>True</td>\n",
       "    </tr>\n",
       "  </tbody>\n",
       "</table>\n",
       "</div>"
      ],
      "text/plain": [
       "                            id       barcode brandCode category categoryCode  \\\n",
       "628   5bd2011f90fa074576779a17  511111704652   HUGGIES     Baby          NaN   \n",
       "1074  5c7d9cb395144c337a3cbfbb  511111707202   HUGGIES     Baby         BABY   \n",
       "\n",
       "                                                    cpg     name topBrand  \n",
       "628   DBRef('Cogs', ObjectId('550b2565e4b001d5e9e414...  Huggies    False  \n",
       "1074  DBRef('Cogs', ObjectId('5459429be4b0bfcb1e8640...  Huggies     True  "
      ]
     },
     "execution_count": 96,
     "metadata": {},
     "output_type": "execute_result"
    }
   ],
   "source": [
    "brands[brands[\"brandCode\"]==\"HUGGIES\"]"
   ]
  },
  {
   "cell_type": "code",
   "execution_count": null,
   "id": "aa02605f",
   "metadata": {},
   "outputs": [],
   "source": []
  }
 ],
 "metadata": {
  "kernelspec": {
   "display_name": "Python 3",
   "language": "python",
   "name": "python3"
  },
  "language_info": {
   "codemirror_mode": {
    "name": "ipython",
    "version": 3
   },
   "file_extension": ".py",
   "mimetype": "text/x-python",
   "name": "python",
   "nbconvert_exporter": "python",
   "pygments_lexer": "ipython3",
   "version": "3.8.8"
  }
 },
 "nbformat": 4,
 "nbformat_minor": 5
}
