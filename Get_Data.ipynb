{
 "cells": [
  {
   "cell_type": "code",
   "execution_count": 1,
   "id": "cf91d071",
   "metadata": {},
   "outputs": [],
   "source": [
    "import pandas as pd\n",
    "import numpy as np\n",
    "from bson.json_util import loads\n",
    "import datetime"
   ]
  },
  {
   "cell_type": "markdown",
   "id": "d3e76263",
   "metadata": {},
   "source": [
    "# Get User data"
   ]
  },
  {
   "cell_type": "code",
   "execution_count": null,
   "id": "3c35e58d",
   "metadata": {},
   "outputs": [],
   "source": [
    "# user_data\n",
    "users_dict = {}\n",
    "with open('users.json') as json_file:\n",
    "    lines = json_file.readlines()\n",
    "    for line in lines:\n",
    "        data = loads(line)\n",
    "        new_data = dict()\n",
    "        # new_data['id'] = data.get('_id', '')\n",
    "        new_data['active'] = data.get('active', '')\n",
    "        new_data['createdDate'] = data.get('createdDate', '')\n",
    "        new_data['lastLogin'] = data.get('lastLogin', '')\n",
    "        new_data['role'] = data.get('role', '')\n",
    "        new_data['signUpSource'] = data.get('signUpSource', '')\n",
    "        new_data['state'] = data.get('state', '')\n",
    "\n",
    "        users_dict[data.get('_id', '')] = new_data\n",
    "\n",
    "print(users_dict)"
   ]
  },
  {
   "cell_type": "code",
   "execution_count": null,
   "id": "57fdbcaa",
   "metadata": {},
   "outputs": [],
   "source": [
    "users_pd = pd.DataFrame.from_dict(users_dict, orient = 'index')\n",
    "users_pd.to_csv('users.csv')"
   ]
  },
  {
   "cell_type": "markdown",
   "id": "e5bb4211",
   "metadata": {},
   "source": [
    "# Get Brand data"
   ]
  },
  {
   "cell_type": "code",
   "execution_count": null,
   "id": "c5842705",
   "metadata": {},
   "outputs": [],
   "source": [
    "# brand data\n",
    "brands_dict = {}\n",
    "with open('brands.json') as json_file:\n",
    "    lines = json_file.readlines()\n",
    "    for line in lines:\n",
    "        data = loads(line)\n",
    "        new_data = dict()\n",
    "        # new_data['id'] = data.get('_id', '')\n",
    "        new_data['barcode'] = data.get('barcode', '')\n",
    "        new_data['brandCode'] = data.get('brandCode', '')\n",
    "        new_data['category'] = data.get('category', '')\n",
    "        new_data['categoryCode'] = data.get('categoryCode', '')\n",
    "        new_data['cpg'] = data.get('cpg', '')\n",
    "        new_data['name'] = data.get('name', '')\n",
    "        new_data['topBrand'] = data.get('topBrand', '')\n",
    "\n",
    "        brands_dict[data.get('_id', '')] = new_data\n",
    "\n",
    "print(brands_dict)"
   ]
  },
  {
   "cell_type": "code",
   "execution_count": null,
   "id": "7a4d9463",
   "metadata": {},
   "outputs": [],
   "source": [
    "brands_pd = pd.DataFrame.from_dict(brands_dict, dtype='object', orient = 'index')\n",
    "brands_pd.to_csv('brands.txt')"
   ]
  },
  {
   "cell_type": "markdown",
   "id": "aaa4e34a",
   "metadata": {},
   "source": [
    "# Get Receipt data and Receipt Item data"
   ]
  },
  {
   "cell_type": "code",
   "execution_count": null,
   "id": "401c3137",
   "metadata": {},
   "outputs": [],
   "source": [
    "# receipt data\n",
    "# receipt item data\n",
    "\n",
    "receipts_dict = {}\n",
    "item_dict = {}\n",
    "with open('receipts.json', encoding='utf-8') as json_file:\n",
    "    lines = json_file.readlines()\n",
    "    for line in lines:\n",
    "        data = loads(line)\n",
    "        new_data = dict()\n",
    "        new_data['bonusPointsEarned'] = data.get('bonusPointsEarned', '')\n",
    "        new_data['bonusPointsEarnedReason'] = data.get('bonusPointsEarnedReason', '')\n",
    "        new_data['createDate'] = data.get('createDate', '')\n",
    "        new_data['dateScanned'] = data.get('dateScanned', '')\n",
    "        new_data['finishedDate'] = data.get('finishedDate', '')\n",
    "        new_data['modifyDate'] = data.get('modifyDate', '')\n",
    "        new_data['pointsAwardedDate'] = data.get('pointsAwardedDate', '')\n",
    "        new_data['pointsEarned'] = data.get('pointsEarned', '')\n",
    "        new_data['purchaseDate'] = data.get('purchaseDate', '')\n",
    "        new_data['purchasedItemCount'] = data.get('purchasedItemCount', '')\n",
    "        new_data['rewardsReceiptStatus'] = data.get('rewardsReceiptStatus', '')\n",
    "        new_data['totalSpent'] = data.get('totalSpent', '')\n",
    "        new_data['userId'] = data.get('userId', '')\n",
    "\n",
    "        receipts_dict[data.get('_id', '')] = new_data\n",
    "        for item in data.get('rewardsReceiptItemList', ''):\n",
    "            item['receipt_id'] = str(data.get('_id', ''))\n",
    "            item_dict[str(abs(hash(json.dumps(item))))] = item\n",
    "\n",
    "print(pd.DataFrame.from_dict(item_dict, orient='index'))\n",
    "print(pd.DataFrame.from_dict(receipts_dict, orient='index'))"
   ]
  },
  {
   "cell_type": "code",
   "execution_count": null,
   "id": "c96ae2fc",
   "metadata": {},
   "outputs": [],
   "source": [
    "receipts_pd = pd.DataFrame.from_dict(receipts_dict, orient = 'index')\n",
    "receipts_pd.to_csv('receipts.txt')"
   ]
  },
  {
   "cell_type": "code",
   "execution_count": null,
   "id": "e63fd933",
   "metadata": {},
   "outputs": [],
   "source": [
    "receipts_item_pd = pd.DataFrame.from_dict(item_dict, dtype='object',orient = 'index')\n",
    "receipts_item_pd.to_csv('receipts_item.txt')"
   ]
  }
 ],
 "metadata": {
  "kernelspec": {
   "display_name": "Python 3",
   "language": "python",
   "name": "python3"
  },
  "language_info": {
   "codemirror_mode": {
    "name": "ipython",
    "version": 3
   },
   "file_extension": ".py",
   "mimetype": "text/x-python",
   "name": "python",
   "nbconvert_exporter": "python",
   "pygments_lexer": "ipython3",
   "version": "3.8.8"
  }
 },
 "nbformat": 4,
 "nbformat_minor": 5
}
